{
 "cells": [
  {
   "cell_type": "code",
   "execution_count": 10,
   "metadata": {},
   "outputs": [
    {
     "name": "stdout",
     "output_type": "stream",
     "text": [
      "7 0 8 "
     ]
    }
   ],
   "source": [
    "from typing import Optional\n",
    "\n",
    "\n",
    "class ListNode:\n",
    "    def __init__(self, val=0, next=None):\n",
    "        self.val = val\n",
    "        self.next = next\n",
    "        \n",
    "class Solution:\n",
    "    def addTwoNumbers(self, l1: Optional[ListNode], l2: Optional[ListNode]) -> Optional[ListNode]:\n",
    "        head = ListNode()\n",
    "        nohAtual = head\n",
    "        carry = 0\n",
    "        \n",
    "        while l1 is not None or l2 is not None or carry != 0:\n",
    "            val1 = l1.val if l1 is not None else 0\n",
    "            val2 = l2.val if l2 is not None else 0\n",
    "            nohAtual.next = ListNode((val1 + val2 + carry) % 10)\n",
    "            carry = (val1 +  val2 + carry) // 10\n",
    "            nohAtual = nohAtual.next\n",
    "            \n",
    "            l1 = l1.next if l1 else None\n",
    "            l2 = l2.next if l2 else None\n",
    "            \n",
    "        return head.next\n",
    "\n",
    "def print_linked_list(head):\n",
    "    while head:\n",
    "        print(head.val, end=\" \")\n",
    "        head = head.next\n",
    "def list_to_ListNode(nums):\n",
    "    dummy = ListNode()\n",
    "    current = dummy\n",
    "    for num in nums:\n",
    "        current.next = ListNode(num)\n",
    "        current = current.next\n",
    "    return dummy.next\n",
    "\n",
    "\n",
    "\n",
    "\n",
    "# Example usage\n",
    "l1 = list_to_ListNode([2, 4, 3])\n",
    "l2 = list_to_ListNode([5, 6, 4])\n",
    "\n",
    "solution = Solution()\n",
    "result = solution.addTwoNumbers(l1, l2)\n",
    "print_linked_list(result)"
   ]
  },
  {
   "cell_type": "code",
   "execution_count": 56,
   "metadata": {},
   "outputs": [
    {
     "name": "stdout",
     "output_type": "stream",
     "text": [
      "0\n"
     ]
    }
   ],
   "source": [
    "class Solution:\n",
    "    def translateSingleDigit(self, s: str):\n",
    "        return 1 if s == 'I' else 5 if s == 'V' else 10 if s == 'X' else 50 if s == 'L' else 100 if s == 'C' else 500 if s == 'D' else 1000 if s == 'M' else None\n",
    "    def romanToInt(self, s: str) -> int:\n",
    "        total = 0\n",
    "        listaNum = []\n",
    "        for letra in list(s):\n",
    "            listaNum.append(self.translateSingleDigit(letra))\n",
    "        \n",
    "        for i in range(len(listaNum)):\n",
    "            if i < len(listaNum) and listaNum[i] < listaNum[i+1]:\n",
    "                total = total - listaNum[i]\n",
    "            else:\n",
    "                total = total + listaNum[i]\n",
    "        return total\n",
    "\n",
    "solution = Solution()\n",
    "print(solution.romanToInt('XL'))"
   ]
  }
 ],
 "metadata": {
  "kernelspec": {
   "display_name": "base",
   "language": "python",
   "name": "python3"
  },
  "language_info": {
   "codemirror_mode": {
    "name": "ipython",
    "version": 3
   },
   "file_extension": ".py",
   "mimetype": "text/x-python",
   "name": "python",
   "nbconvert_exporter": "python",
   "pygments_lexer": "ipython3",
   "version": "3.11.7"
  }
 },
 "nbformat": 4,
 "nbformat_minor": 2
}
