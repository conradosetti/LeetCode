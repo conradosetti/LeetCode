{
 "cells": [
  {
   "cell_type": "code",
   "execution_count": 37,
   "metadata": {},
   "outputs": [
    {
     "name": "stdout",
     "output_type": "stream",
     "text": [
      "1\n"
     ]
    }
   ],
   "source": [
    "class Solution:\n",
    "    def lengthOfLongestSubstring(self, s: str) -> int:\n",
    "        possibleSubStr = []\n",
    "        if len(s) == 1:\n",
    "            return 1\n",
    "        for i in range(len(s)):\n",
    "            subStr = s[i]\n",
    "            possibleSubStr.append(subStr)\n",
    "            for char in s[i+1:]:\n",
    "                if char not in subStr:\n",
    "                    subStr = subStr + char\n",
    "                    possibleSubStr.append(subStr)\n",
    "                else:\n",
    "                    break\n",
    "        return len(max(possibleSubStr, key= len)) if possibleSubStr else 0\n",
    "        \n",
    "s = \"bbbbbbbbb\"\n",
    "solution = Solution()\n",
    "print(solution.lengthOfLongestSubstring(s))"
   ]
  },
  {
   "cell_type": "code",
   "execution_count": 5,
   "metadata": {},
   "outputs": [
    {
     "name": "stdout",
     "output_type": "stream",
     "text": [
      "Substring not found!\n"
     ]
    }
   ],
   "source": [
    "string = \"a\"\n",
    "substring = \"b\"\n",
    "\n",
    "if substring not in string:\n",
    "    print(\"Substring not found!\")\n",
    "else:\n",
    "    print(\"Substring found.\")\n"
   ]
  },
  {
   "cell_type": "code",
   "execution_count": 22,
   "metadata": {},
   "outputs": [
    {
     "name": "stdout",
     "output_type": "stream",
     "text": [
      "Your list is not empty\n"
     ]
    }
   ],
   "source": [
    "people_list = [] \n",
    "\n",
    "if people_list:\n",
    "    print(\"Your list is empty\")\n",
    "else:\n",
    "    print(\"Your list is not empty\")\n",
    "\n",
    "# Your list is empty"
   ]
  }
 ],
 "metadata": {
  "kernelspec": {
   "display_name": "Python 3",
   "language": "python",
   "name": "python3"
  },
  "language_info": {
   "codemirror_mode": {
    "name": "ipython",
    "version": 3
   },
   "file_extension": ".py",
   "mimetype": "text/x-python",
   "name": "python",
   "nbconvert_exporter": "python",
   "pygments_lexer": "ipython3",
   "version": "3.12.4"
  }
 },
 "nbformat": 4,
 "nbformat_minor": 2
}
