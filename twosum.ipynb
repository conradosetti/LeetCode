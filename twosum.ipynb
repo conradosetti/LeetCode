{
 "cells": [
  {
   "cell_type": "code",
   "execution_count": 18,
   "metadata": {},
   "outputs": [
    {
     "name": "stdout",
     "output_type": "stream",
     "text": [
      "[0, 3]\n"
     ]
    }
   ],
   "source": [
    "from typing import List\n",
    "\n",
    "\n",
    "class Solution:\n",
    "    def twoSum(nums: List[int], target: int) -> List[int]:\n",
    "        index1 = 0\n",
    "        list = nums[0:-1]\n",
    "        for num1 in list:\n",
    "            index2 = index1 + 1\n",
    "            indexOfFirstNum = index1\n",
    "            for num2 in nums[indexOfFirstNum+1:]:\n",
    "                if num1 + num2 == target:\n",
    "                    indexOfSecondNum = index2\n",
    "                    return [indexOfFirstNum, indexOfSecondNum]\n",
    "                index2 = index2 + 1\n",
    "            index1 = index1 + 1\n",
    "    \n",
    "    nums = [0,4,3,0]\n",
    "    target = 0\n",
    "    print(twoSum(nums=nums, target=target)) "
   ]
  }
 ],
 "metadata": {
  "kernelspec": {
   "display_name": "Python 3",
   "language": "python",
   "name": "python3"
  },
  "language_info": {
   "codemirror_mode": {
    "name": "ipython",
    "version": 3
   },
   "file_extension": ".py",
   "mimetype": "text/x-python",
   "name": "python",
   "nbconvert_exporter": "python",
   "pygments_lexer": "ipython3",
   "version": "3.12.4"
  }
 },
 "nbformat": 4,
 "nbformat_minor": 2
}
