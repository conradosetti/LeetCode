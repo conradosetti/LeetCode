{
 "cells": [
  {
   "cell_type": "code",
   "execution_count": 30,
   "metadata": {},
   "outputs": [
    {
     "name": "stdout",
     "output_type": "stream",
     "text": [
      "None\n"
     ]
    }
   ],
   "source": [
    "class Solution:\n",
    "    def removeChar(self, s, index):\n",
    "        return s[:index] + s[index + 1:]\n",
    "    def isPalindrome(self, x: str) -> bool:\n",
    "        for i in range(len(x) // 2):\n",
    "            if x[i]!=x[len(x)-i-1]:\n",
    "                return False\n",
    "        return True\n",
    "    def longestPalindrome(self, s: str) -> str:\n",
    "        \n",
    "        for i in range(len(s)):\n",
    "            for i in range(len(s)):\n",
    "                subStr = s\n",
    "                if self.isPalindrome(s):\n",
    "                    return s\n",
    "                self.removeChar(subStr, (len(s)-1-i))\n",
    "            self.removeChar(s, i)\n",
    "        \n",
    "s = \"babad\"\n",
    "solution = Solution()\n",
    "print(solution.longestPalindrome(s))"
   ]
  },
  {
   "cell_type": "code",
   "execution_count": 12,
   "metadata": {},
   "outputs": [
    {
     "name": "stdout",
     "output_type": "stream",
     "text": [
      "True\n"
     ]
    }
   ],
   "source": [
    "class Solution:\n",
    "    def isPalindrome(self, x: str) -> bool:\n",
    "        for i in range(len(x) // 2):\n",
    "            if x[i]!=x[len(x)-i-1]:\n",
    "                return False\n",
    "        return True\n",
    "    \n",
    "s = \"a\"\n",
    "solution = Solution()\n",
    "print(solution.isPalindrome(s))"
   ]
  },
  {
   "cell_type": "code",
   "execution_count": 22,
   "metadata": {},
   "outputs": [
    {
     "name": "stdout",
     "output_type": "stream",
     "text": [
      "9\n",
      "8\n",
      "7\n",
      "6\n",
      "5\n",
      "4\n",
      "3\n",
      "2\n",
      "1\n"
     ]
    }
   ],
   "source": [
    "lista = [1, 2, 3, 4, 5, 6, 7, 8, 9]\n",
    "\n",
    "for i in range(len(lista) - 1, -1, -1):\n",
    "    print(lista[i])\n"
   ]
  }
 ],
 "metadata": {
  "kernelspec": {
   "display_name": "Python 3",
   "language": "python",
   "name": "python3"
  },
  "language_info": {
   "codemirror_mode": {
    "name": "ipython",
    "version": 3
   },
   "file_extension": ".py",
   "mimetype": "text/x-python",
   "name": "python",
   "nbconvert_exporter": "python",
   "pygments_lexer": "ipython3",
   "version": "3.12.4"
  }
 },
 "nbformat": 4,
 "nbformat_minor": 2
}
