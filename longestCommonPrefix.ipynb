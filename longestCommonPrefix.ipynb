{
 "cells": [
  {
   "cell_type": "code",
   "execution_count": 11,
   "metadata": {},
   "outputs": [
    {
     "name": "stdout",
     "output_type": "stream",
     "text": [
      "fl\n"
     ]
    }
   ],
   "source": [
    "from typing import List\n",
    "\n",
    "\n",
    "class Solution:\n",
    "    def longestCommonPrefix(self, strs: List[str]) -> str:\n",
    "        if len(strs) == 1:\n",
    "            return strs[0]\n",
    "        smallerString = min(strs, key=len)\n",
    "        smallerStringSize = len(smallerString)\n",
    "        isCharsEqual = True\n",
    "        commonString = \"\"\n",
    "        \n",
    "        for i in range(smallerStringSize):\n",
    "            for j in range(len(strs) - 1):\n",
    "                if strs[j][i] != strs[j+1][i]:\n",
    "                    isCharsEqual = False\n",
    "            if isCharsEqual:\n",
    "                commonString = commonString + strs[j][i]\n",
    "            else:\n",
    "                break\n",
    "        return commonString\n",
    "    \n",
    "\n",
    "strs = [\"flower\",\"flow\",\"flight\"]\n",
    "solution = Solution()\n",
    "print(solution.longestCommonPrefix(strs))"
   ]
  },
  {
   "cell_type": "code",
   "execution_count": 4,
   "metadata": {},
   "outputs": [
    {
     "name": "stdout",
     "output_type": "stream",
     "text": [
      "A menor string é: 'date' com tamanho 4\n",
      "p\n"
     ]
    }
   ],
   "source": [
    "lista_de_strings = [\"apple\", \"banana\", \"cherry\", \"date\"]\n",
    "\n",
    "menor_string = min(lista_de_strings, key=len)\n",
    "\n",
    "tamanho_menor_string = len(menor_string)\n",
    "\n",
    "print(f\"A menor string é: '{menor_string}' com tamanho {tamanho_menor_string}\")\n",
    "\n",
    "print(lista_de_strings[0][1])"
   ]
  }
 ],
 "metadata": {
  "kernelspec": {
   "display_name": "Python 3",
   "language": "python",
   "name": "python3"
  },
  "language_info": {
   "codemirror_mode": {
    "name": "ipython",
    "version": 3
   },
   "file_extension": ".py",
   "mimetype": "text/x-python",
   "name": "python",
   "nbconvert_exporter": "python",
   "pygments_lexer": "ipython3",
   "version": "3.12.4"
  }
 },
 "nbformat": 4,
 "nbformat_minor": 2
}
